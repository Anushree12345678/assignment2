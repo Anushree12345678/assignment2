{
 "cells": [
  {
   "cell_type": "markdown",
   "id": "d836a595",
   "metadata": {},
   "source": [
    "#### 1. what are the two boolean data type? how do you write them"
   ]
  },
  {
   "cell_type": "markdown",
   "id": "38796551",
   "metadata": {},
   "source": [
    "the two boolean data types are (i) True (ii) False.It is written as 1 for True and 0 for False "
   ]
  },
  {
   "cell_type": "markdown",
   "id": "ddbf0358",
   "metadata": {},
   "source": [
    "#### 2. what are the different type of boolean operators"
   ]
  },
  {
   "cell_type": "markdown",
   "id": "1592dba8",
   "metadata": {},
   "source": [
    "there are different types of boolean operator like 'and' operator, 'or' operator , 'not' operator   "
   ]
  },
  {
   "cell_type": "markdown",
   "id": "5e7d2416",
   "metadata": {},
   "source": [
    "#### 3. Truth table of boolean operators"
   ]
  },
  {
   "cell_type": "markdown",
   "id": "1670ba31",
   "metadata": {},
   "source": [
    "and operator:                        or operator:                            not operator:\n",
    "x           y         x and y        x          y          x and y           x         not x \n",
    "True(1)    False(0)   False(0)      True(1)    False(0)    True(1)         True(1)    False(0) \n",
    "False(0)   True(1)    False(0)      False(0)   True(1)     True(1)         False(0)   True(1) \n",
    "True(1)    True(1)    True(1)       True(1)    True(1)     True(1)   \n",
    "False(0)   False(0)   False(0)      False(0)   False(0)   False(0)"
   ]
  },
  {
   "cell_type": "markdown",
   "id": "3919a88e",
   "metadata": {},
   "source": [
    "#### 4. what are the values of follwing expression"
   ]
  },
  {
   "cell_type": "code",
   "execution_count": 1,
   "id": "c1626aad",
   "metadata": {},
   "outputs": [
    {
     "data": {
      "text/plain": [
       "False"
      ]
     },
     "execution_count": 1,
     "metadata": {},
     "output_type": "execute_result"
    }
   ],
   "source": [
    "(5>4)and(3==5) #and operartor false because 5>4 is true but 3==5 is false .by checking both the condition it returns false"
   ]
  },
  {
   "cell_type": "code",
   "execution_count": 2,
   "id": "6fc92490",
   "metadata": {},
   "outputs": [
    {
     "data": {
      "text/plain": [
       "False"
      ]
     },
     "execution_count": 2,
     "metadata": {},
     "output_type": "execute_result"
    }
   ],
   "source": [
    "not(5>4) #here 5>4 is true not operator changes the boolean value that's whay returns false"
   ]
  },
  {
   "cell_type": "code",
   "execution_count": 3,
   "id": "87280ac0",
   "metadata": {},
   "outputs": [
    {
     "data": {
      "text/plain": [
       "True"
      ]
     },
     "execution_count": 3,
     "metadata": {},
     "output_type": "execute_result"
    }
   ],
   "source": [
    "(5>4)or(3==5) # or operartor true because 5>4 is true and 3==5 is false but or operator checks only one condition to return true"
   ]
  },
  {
   "cell_type": "code",
   "execution_count": 4,
   "id": "bae7ee9f",
   "metadata": {},
   "outputs": [
    {
     "data": {
      "text/plain": [
       "False"
      ]
     },
     "execution_count": 4,
     "metadata": {},
     "output_type": "execute_result"
    }
   ],
   "source": [
    "not((5>4)or(3==5)) # not operator prints false as the previous condition is true"
   ]
  },
  {
   "cell_type": "code",
   "execution_count": 6,
   "id": "9ea0fe2a",
   "metadata": {},
   "outputs": [
    {
     "data": {
      "text/plain": [
       "False"
      ]
     },
     "execution_count": 6,
     "metadata": {},
     "output_type": "execute_result"
    }
   ],
   "source": [
    "(True and True)and(True==False) "
   ]
  },
  {
   "cell_type": "code",
   "execution_count": 7,
   "id": "8b322ba7",
   "metadata": {},
   "outputs": [
    {
     "data": {
      "text/plain": [
       "True"
      ]
     },
     "execution_count": 7,
     "metadata": {},
     "output_type": "execute_result"
    }
   ],
   "source": [
    "(not False)or(not True)"
   ]
  },
  {
   "cell_type": "markdown",
   "id": "9fddcdfc",
   "metadata": {},
   "source": [
    "#### 5  what are the six comparison operators"
   ]
  },
  {
   "cell_type": "markdown",
   "id": "59825123",
   "metadata": {},
   "source": [
    "six comparison operators are: equal(==) ,greater equal(>= ),lesser equal(<=) ,less than(< ),greater than(>) ,not equal(!=)"
   ]
  },
  {
   "cell_type": "markdown",
   "id": "57c08870",
   "metadata": {},
   "source": [
    "#### 6. tell the difference between the equal to and assignment operators"
   ]
  },
  {
   "cell_type": "markdown",
   "id": "491e5b61",
   "metadata": {},
   "source": [
    "'=' is an assignment operator mostly used to assign a value to a variable.\n",
    "as a example ; x = 5 ,here we have used = to assign the value 5 into the variable x\n",
    " On the other side, '==' is a comparison operator mostly used to check wheather the given operends are equal are not.\n",
    " as a example; 5==5 ,it returns true \n",
    "               4==5 , it retuns false"
   ]
  },
  {
   "cell_type": "markdown",
   "id": "fc6bb6b6",
   "metadata": {},
   "source": [
    "#### 7. indentify three blocks in this code"
   ]
  },
  {
   "cell_type": "code",
   "execution_count": null,
   "id": "01ea7de5",
   "metadata": {},
   "outputs": [],
   "source": [
    "spam=0\n",
    "if spam == 10:\n",
    "print('eggs')  #identation problem 1\n",
    "if spam >5:\n",
    "print('bacon')  # indentation problem 2\n",
    "else:\n",
    "print('ham')    # indentation problem 3\n",
    "print('spam')\n",
    "print('spam')"
   ]
  },
  {
   "cell_type": "markdown",
   "id": "1c953496",
   "metadata": {},
   "source": [
    "#### 8. write a code prints hello if 1 is stored in spam .prints howdy if 2 is stored in spam. otherwise prints greetings!"
   ]
  },
  {
   "cell_type": "code",
   "execution_count": 4,
   "id": "d9484557",
   "metadata": {},
   "outputs": [
    {
     "name": "stdout",
     "output_type": "stream",
     "text": [
      "enter spam:5\n",
      "grreetings!\n"
     ]
    }
   ],
   "source": [
    "i=int(input('enter spam:'))\n",
    "if i==1:\n",
    "    print('hello')\n",
    "elif i==2:\n",
    "    print('howdy')\n",
    "else:\n",
    "    print('grreetings!')"
   ]
  },
  {
   "cell_type": "markdown",
   "id": "3ac8e6ef",
   "metadata": {},
   "source": [
    "#### 9. if programme is stuck into a endless loop , what key you'll press."
   ]
  },
  {
   "cell_type": "markdown",
   "id": "6805afac",
   "metadata": {},
   "source": [
    "ctrl+c"
   ]
  },
  {
   "cell_type": "markdown",
   "id": "4b50383a",
   "metadata": {},
   "source": [
    "#### 10.difference between break and continue"
   ]
  },
  {
   "cell_type": "markdown",
   "id": "50a08e80",
   "metadata": {},
   "source": [
    "Break statement is a reserved keyword in python that terminates a loop on where it is executed.\n",
    "as example:"
   ]
  },
  {
   "cell_type": "code",
   "execution_count": 11,
   "id": "8d066486",
   "metadata": {},
   "outputs": [
    {
     "name": "stdout",
     "output_type": "stream",
     "text": [
      "0\n",
      "1\n",
      "2\n",
      "3\n",
      "4\n",
      "5\n"
     ]
    }
   ],
   "source": [
    "for n in range(10):\n",
    "    print(n)\n",
    "    if n==5:\n",
    "        break  # it breaaks the loop when the if condition is true and terminates the whole loop\n",
    "        print('break statement') "
   ]
  },
  {
   "cell_type": "code",
   "execution_count": 12,
   "id": "a04686a4",
   "metadata": {},
   "outputs": [
    {
     "name": "stdout",
     "output_type": "stream",
     "text": [
      "1\n",
      "2\n",
      "3\n",
      "4\n"
     ]
    }
   ],
   "source": [
    "n=1\n",
    "while(n<=10):\n",
    "    if n==5:\n",
    "        break   #same thing in while loop\n",
    "    print(n)\n",
    "    n=n+1"
   ]
  },
  {
   "cell_type": "markdown",
   "id": "9152ef48",
   "metadata": {},
   "source": [
    "continue statement is again a reserved keyword in python.It goes back the beginning of the loop when executed in a code."
   ]
  },
  {
   "cell_type": "code",
   "execution_count": 1,
   "id": "c030f24f",
   "metadata": {},
   "outputs": [
    {
     "name": "stdout",
     "output_type": "stream",
     "text": [
      "1\n",
      "3\n",
      "4\n",
      "5\n",
      "6\n",
      "7\n",
      "8\n",
      "9\n",
      "10\n"
     ]
    }
   ],
   "source": [
    "n=0\n",
    "while n<10:\n",
    "    n+=1\n",
    "    if  n==2:\n",
    "        continue  #it takes the loop to the begginning and then print\n",
    "    print(n)"
   ]
  },
  {
   "cell_type": "markdown",
   "id": "860eb19b",
   "metadata": {},
   "source": [
    "#### 11. in a for loop , what is the difference between range(10),range(0,10), range(0,10,1)?"
   ]
  },
  {
   "cell_type": "markdown",
   "id": "381675af",
   "metadata": {},
   "source": [
    "range(10),range(0,10), range(0,10,1) here all the three range functions provides same results because in all the three:\n",
    "1.The starting index is by default 0\n",
    "2.step size is by default 1\n",
    "3. The ending index is 10\n",
    "here are some examples below:"
   ]
  },
  {
   "cell_type": "code",
   "execution_count": 5,
   "id": "c29bfb62",
   "metadata": {},
   "outputs": [
    {
     "name": "stdout",
     "output_type": "stream",
     "text": [
      "0123456789"
     ]
    }
   ],
   "source": [
    "for i in range(10):\n",
    "    print(i,end='')"
   ]
  },
  {
   "cell_type": "code",
   "execution_count": 6,
   "id": "7af97c3d",
   "metadata": {},
   "outputs": [
    {
     "name": "stdout",
     "output_type": "stream",
     "text": [
      "0123456789"
     ]
    }
   ],
   "source": [
    "for i in range(0,10):\n",
    "    print(i,end='')"
   ]
  },
  {
   "cell_type": "code",
   "execution_count": 7,
   "id": "5f2befd1",
   "metadata": {},
   "outputs": [
    {
     "name": "stdout",
     "output_type": "stream",
     "text": [
      "0123456789"
     ]
    }
   ],
   "source": [
    "for i in range(0,10,1):\n",
    "    print(i,end='')"
   ]
  },
  {
   "cell_type": "markdown",
   "id": "2a1c28d9",
   "metadata": {},
   "source": [
    "#### 12.write a short program that prints the numbers 1 to 10 using for loop. then write a similar program using while loop"
   ]
  },
  {
   "cell_type": "code",
   "execution_count": 2,
   "id": "eac5fa2e",
   "metadata": {},
   "outputs": [
    {
     "name": "stdout",
     "output_type": "stream",
     "text": [
      "1\n",
      "2\n",
      "3\n",
      "4\n",
      "5\n",
      "6\n",
      "7\n",
      "8\n",
      "9\n",
      "10\n"
     ]
    }
   ],
   "source": [
    "#for loop\n",
    "for n in range(10):\n",
    "    print(n+1)"
   ]
  },
  {
   "cell_type": "code",
   "execution_count": 3,
   "id": "68697c6b",
   "metadata": {},
   "outputs": [
    {
     "name": "stdout",
     "output_type": "stream",
     "text": [
      "1\n",
      "2\n",
      "3\n",
      "4\n",
      "5\n",
      "6\n",
      "7\n",
      "8\n",
      "9\n",
      "10\n"
     ]
    }
   ],
   "source": [
    "# while loop\n",
    "n=1\n",
    "while(n<=10):\n",
    "    print(n)\n",
    "    n=n+1"
   ]
  },
  {
   "cell_type": "markdown",
   "id": "4b28fc0d",
   "metadata": {},
   "source": [
    "#### 13. If you had afunction named bacon() inside amodule namedspam,how would you call it after importing spam?"
   ]
  },
  {
   "cell_type": "markdown",
   "id": "91f518b8",
   "metadata": {},
   "source": [
    "import spam\n",
    "spam.bacon()"
   ]
  },
  {
   "cell_type": "code",
   "execution_count": null,
   "id": "b34ffea5",
   "metadata": {},
   "outputs": [],
   "source": []
  }
 ],
 "metadata": {
  "kernelspec": {
   "display_name": "Python 3 (ipykernel)",
   "language": "python",
   "name": "python3"
  },
  "language_info": {
   "codemirror_mode": {
    "name": "ipython",
    "version": 3
   },
   "file_extension": ".py",
   "mimetype": "text/x-python",
   "name": "python",
   "nbconvert_exporter": "python",
   "pygments_lexer": "ipython3",
   "version": "3.10.9"
  }
 },
 "nbformat": 4,
 "nbformat_minor": 5
}
